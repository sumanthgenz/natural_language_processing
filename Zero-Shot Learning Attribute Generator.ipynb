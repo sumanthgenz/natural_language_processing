{
 "cells": [
  {
   "cell_type": "code",
   "execution_count": null,
   "metadata": {},
   "outputs": [],
   "source": [
    "import nltk\n",
    "import ast\n",
    "import re\n",
    "import copy\n",
    "import math\n",
    "import openpyxl\n",
    "from collections import Counter\n",
    "import pandas as pd\n",
    "import numpy as np\n",
    "import json\n",
    "import tensorflow as tf \n",
    "import tensorflow_hub as hub\n",
    "import csv\n",
    "import random\n",
    "import xlrd \n",
    "  \n",
    "# Give the location of the file \n",
    "loc = (\"/Users/sumanth.gurram/Desktop/attributes.xlsx\") \n",
    "\n",
    "\n",
    "utt, intent, mapper = [], [], []\n",
    "wb = xlrd.open_workbook(loc) \n",
    "sheet = wb.sheet_by_index(0) \n",
    "\n",
    "for i in range(1, sheet.nrows):\n",
    "    it = sheet.cell_value(i, 0)\n",
    "    ut = sheet.cell_value(i, 1)\n",
    "    at1 = sheet.cell_value(i, 2)\n",
    "    at2 = sheet.cell_value(i, 3)\n",
    "    at3 = sheet.cell_value(i, 4)\n",
    "    at4 = sheet.cell_value(i, 5)\n",
    "    at5 = sheet.cell_value(i, 6)\n",
    "    intent.append(it)\n",
    "    utt.append(ut)\n",
    "    \n",
    "    mapper.append(at1)\n",
    "    mapper.append(at2)\n",
    "    \n",
    "    if at3 != \"\":\n",
    "        mapper.append(at3)\n",
    "    if at4 != \"\":\n",
    "        mapper.append(at4)\n",
    "    if at5 != \"\":\n",
    "        mapper.append(at5)\n",
    "\n",
    "attlist = list(Counter(mapper))\n",
    "attlen = len(attlist)\n",
    "attributes = []\n",
    "for i in range(1, sheet.nrows):\n",
    "    attvec = [0]*attlen\n",
    "    temp = []\n",
    "    for x in range(2, 7):\n",
    "        temp.append(sheet.cell_value(i, x))\n",
    "    \n",
    "    for k in temp:\n",
    "        if k != \"\":\n",
    "            ind = attlist.index(k)\n",
    "            attvec[ind] = 1\n",
    "    attributes.append(attvec)"
   ]
  },
  {
   "cell_type": "code",
   "execution_count": null,
   "metadata": {},
   "outputs": [],
   "source": [
    "cols = []\n",
    "for i in range(attlen):\n",
    "    s = 'Att' + str(i)\n",
    "    cols.append(s)\n",
    "df1 = pd.DataFrame([intent, utt]).T\n",
    "df1.columns = [\"Intent\", \"Sample\"]\n",
    "df2 = pd.DataFrame({'atts': attributes})\n",
    "df3 = pd.DataFrame(df2['atts'].to_list())\n",
    "df3.columns = cols\n",
    "df3.head(800)\n",
    "\n",
    "result = pd.concat([df1, df3], axis=1, sort=False)\n",
    "result.to_excel(\"attributes.xlsx\", index=False) "
   ]
  },
  {
   "cell_type": "code",
   "execution_count": null,
   "metadata": {},
   "outputs": [],
   "source": [
    "r, c = df1.shape\n",
    "print(c)\n",
    "for index, row in df1.iterrows():\n",
    "    res = row[2:]\n",
    "    res = res.tolist()\n",
    "    break\n",
    "print(res)\n",
    "print(type(res))"
   ]
  },
  {
   "cell_type": "code",
   "execution_count": null,
   "metadata": {},
   "outputs": [],
   "source": [
    "test = pd.read_excel('/Users/sumanth.gurram/Desktop/attributes.xlsx')\n",
    "test.head()"
   ]
  },
  {
   "cell_type": "code",
   "execution_count": null,
   "metadata": {},
   "outputs": [],
   "source": [
    "embed = hub.load(\"https://tfhub.dev/google/universal-sentence-encoder/4\")\n",
    "vectors = embed(request)"
   ]
  },
  {
   "cell_type": "code",
   "execution_count": null,
   "metadata": {},
   "outputs": [],
   "source": [
    "fmat = pd.DataFrame([query, other, label]).T\n",
    "fmat.columns= ['Sample1', 'Sample2', 'Label']\n",
    "fmat.to_excel(\"siamese_en_raw_all_data.xlsx\", index=False)"
   ]
  }
 ],
 "metadata": {
  "kernelspec": {
   "display_name": "Python 3",
   "language": "python",
   "name": "python3"
  },
  "language_info": {
   "codemirror_mode": {
    "name": "ipython",
    "version": 3
   },
   "file_extension": ".py",
   "mimetype": "text/x-python",
   "name": "python",
   "nbconvert_exporter": "python",
   "pygments_lexer": "ipython3",
   "version": "3.7.6"
  }
 },
 "nbformat": 4,
 "nbformat_minor": 4
}
